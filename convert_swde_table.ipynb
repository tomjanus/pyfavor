{
 "cells": [
  {
   "cell_type": "markdown",
   "id": "3a2fc66a",
   "metadata": {},
   "source": [
    "## Conversion of a dataframe with pressure measurements from SWDE experiment into a dataframe compatible with the efavor format\n",
    "\n",
    "#### T. Janus\n",
    "#### 20-11-2024\n",
    "\n",
    "### Assumptions\n",
    "* Single inlet with name given in variable `inlet_name` - default == \"A\"\n",
    "\n",
    "### Short description\n"
   ]
  },
  {
   "cell_type": "code",
   "execution_count": null,
   "id": "48e904d2",
   "metadata": {},
   "outputs": [],
   "source": [
    "# Library import\n",
    "import pathlib\n",
    "import pandas as pd\n",
    "# Constants and global variables\n",
    "path_to_datafile = pathlib.Path(\"efavor/swde/swde_test.xlsx\")\n",
    "inlet_name: str = \"A\""
   ]
  },
  {
   "cell_type": "code",
   "execution_count": null,
   "id": "0ebf9fe1",
   "metadata": {},
   "outputs": [],
   "source": [
    "# Load and process the original dataframe\n",
    "swde_data = pd.read_excel(path_to_datafile)\\\n",
    "    .drop(columns=[\"Device #\"])\\\n",
    "    .rename(columns={\"_node\": \"node\"})\\ \n",
    "    .set_index(\"Time\")\\\n",
    "    .loc[lambda x: ~x.index.isna()]\\\n",
    "    .loc[lambda x: x.index.time >= pd.to_datetime(\"01:00:00\").time()]\\ # Times < 1am are disregarder\n",
    "    .groupby(\"node\")\\\n",
    "    .resample('15T')\\\n",
    "    .mean()\\\n",
    "    .reset_index()\\\n",
    "    .pivot(index='Time', columns='node', values='Pressure')"
   ]
  },
  {
   "cell_type": "code",
   "execution_count": null,
   "id": "98622b5d",
   "metadata": {},
   "outputs": [],
   "source": [
    "# Modify the look of the dataframe to fit the efavor formatting convention\n",
    "logger_name_map = {column: ix for ix, column in enumerate(swde_data.columns)}\n",
    "# Creat an efavor-compatible dataframe\n",
    "swde_data_efavor = swde_data\\\n",
    "    .assign(Inlet=lambda x: \"A\")\\\n",
    "    .set_index(\"Inlet\")\\\n",
    "    .rename(columns=logger_name_map)"
   ]
  },
  {
   "cell_type": "code",
   "execution_count": null,
   "id": "1ec7a058",
   "metadata": {},
   "outputs": [],
   "source": [
    "swde_data_efavor.head(10)"
   ]
  },
  {
   "cell_type": "code",
   "execution_count": null,
   "id": "6fe94399",
   "metadata": {},
   "outputs": [],
   "source": []
  }
 ],
 "metadata": {
  "kernelspec": {
   "display_name": "Python 3 (ipykernel)",
   "language": "python",
   "name": "python3"
  },
  "language_info": {
   "codemirror_mode": {
    "name": "ipython",
    "version": 3
   },
   "file_extension": ".py",
   "mimetype": "text/x-python",
   "name": "python",
   "nbconvert_exporter": "python",
   "pygments_lexer": "ipython3",
   "version": "3.10.12"
  }
 },
 "nbformat": 4,
 "nbformat_minor": 5
}
