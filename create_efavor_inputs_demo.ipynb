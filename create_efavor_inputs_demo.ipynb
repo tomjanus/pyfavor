{
 "cells": [
  {
   "cell_type": "markdown",
   "id": "0910089d",
   "metadata": {},
   "source": [
    "## Pyfavor's Notebook front-end for creating eFavor input files"
   ]
  },
  {
   "cell_type": "code",
   "execution_count": 4,
   "id": "62b1582e",
   "metadata": {},
   "outputs": [],
   "source": [
    "import pathlib\n",
    "import wntr\n",
    "import xlwt\n",
    "import pandas as pd\n",
    "from typing import List, Dict, Any, Literal\n",
    "from pyfavor.utils import hr_to_sec, hr_to_min, read_table, find_os, install_package\n",
    "from pyfavor.create import (\n",
    "    create_times_df, create_inlets_df, create_flows_df, create_pressure_df, \n",
    "    get_logger_info, get_notes, write_efavor_pressures)\n",
    "from pyfavor.simulate import simulate_network, get_junction_pressures, get_inlet_flows"
   ]
  },
  {
   "cell_type": "markdown",
   "id": "b30e36a2",
   "metadata": {},
   "source": [
    "## Define execution options"
   ]
  },
  {
   "cell_type": "code",
   "execution_count": null,
   "id": "8215df1a",
   "metadata": {},
   "outputs": [],
   "source": [
    "use_config: bool = False"
   ]
  },
  {
   "cell_type": "code",
   "execution_count": null,
   "id": "38dae741",
   "metadata": {},
   "outputs": [],
   "source": [
    "if use_config:\n",
    "    # Read config file\n",
    "    network_config = read_table(pathlib.Path(\"config.yaml\"))['network']\n",
    "    experiment_config = read_table(pathlib.Path(\"config.yaml\"))['experiment']\n",
    "    defaults_config = read_table(pathlib.Path(\"config.yaml\"))['default']\n",
    "    # Read variables from config dictionary\n",
    "    inlet_valve_name = network_config['inlet_valve']\n",
    "    inlet_pipe_name = network_config['inlet_pipe']\n",
    "    measurement_period_mins = experiment_config['measurement_period']\n",
    "    step_period_mins = experiment_config['step_period']\n",
    "    flow_setting = experiment_config['flow_setting']\n",
    "    start_hr = experiment_config['start_hr']\n",
    "    end_hr = experiment_config['end_hr']\n",
    "    network_file = defaults_config['network_file']\n",
    "    efavor_logger_file = defaults_config['efavor_logger_file']\n",
    "    efavor_pressure_file = defaults_config['efavor_pressure_file']\n",
    "else:\n",
    "    inlet_valve_name = \"Valve_1\"\n",
    "    inlet_pipe_name = \"Pipe_1\"\n",
    "    measurement_period_mins = 15\n",
    "    step_period_mins = 60\n",
    "    flow_setting = \"15min\"\n",
    "    start_hr = 3\n",
    "    end_hr = 6\n",
    "    network_file = \"networks/St_Servais_Centre_leak.inp\"\n",
    "    efavor_logger_file = \"efavor/e_FAVOR_St_Servais.xls\"\n",
    "    efavor_pressure_file = \"efavor/e_FAVOR_St_Servais_updated_new.xlsx\""
   ]
  },
  {
   "cell_type": "code",
   "execution_count": null,
   "id": "b4a2ddd8",
   "metadata": {},
   "outputs": [],
   "source": []
  },
  {
   "cell_type": "code",
   "execution_count": 2,
   "id": "925cf532",
   "metadata": {},
   "outputs": [],
   "source": []
  },
  {
   "cell_type": "code",
   "execution_count": 3,
   "id": "d7304eb1",
   "metadata": {},
   "outputs": [],
   "source": []
  },
  {
   "cell_type": "code",
   "execution_count": 4,
   "id": "a40545d4",
   "metadata": {},
   "outputs": [],
   "source": [
    "# Assert and calculate number of flow measurements in a pressure step\n",
    "assert step_period_mins % measurement_period_mins == 0"
   ]
  },
  {
   "cell_type": "code",
   "execution_count": 5,
   "id": "e5db7d18",
   "metadata": {},
   "outputs": [],
   "source": [
    "n_measurements_in_step = step_period_mins / measurement_period_mins"
   ]
  },
  {
   "cell_type": "markdown",
   "id": "4b9e13ff",
   "metadata": {},
   "source": [
    "## 1. Load information about logger IDs from eFavor logger placement module"
   ]
  },
  {
   "cell_type": "code",
   "execution_count": 6,
   "id": "e0c6af3f",
   "metadata": {},
   "outputs": [],
   "source": [
    "logger_info = get_logger_info(efavor_logger_file)\n",
    "notes = get_notes(efavor_logger_file)\n",
    "\n",
    "junction_ids = logger_info['Nearest Node ID (EPANET Junction ID)'].to_list()\n",
    "inlet_nodes = logger_info[logger_info[\"Is inlet node? (true/false)\"] == True]\n",
    "inlet_logger_ids = inlet_nodes['Logger ID'].to_list()\n",
    "inlet_logger_junction_ids = inlet_nodes['Nearest Node ID (EPANET Junction ID)'].to_list()\n",
    "# Create a mapping between logger IDs and EPANET Junction IDS\n",
    "epanet_to_logger_id_map = \\\n",
    "    dict(zip(logger_info['Nearest Node ID (EPANET Junction ID)'], logger_info['Logger ID']))"
   ]
  },
  {
   "cell_type": "markdown",
   "id": "ba5512df",
   "metadata": {},
   "source": [
    "## 2. Simulate the EPANET network with WNTR and extract pressures from selected nodes"
   ]
  },
  {
   "cell_type": "code",
   "execution_count": 7,
   "id": "cc8cac33",
   "metadata": {},
   "outputs": [],
   "source": [
    "results = simulate_network(network_file)"
   ]
  },
  {
   "cell_type": "markdown",
   "id": "af2fdbde",
   "metadata": {},
   "source": [
    "## 3. Create sheets for the spreadsheet Excel file"
   ]
  },
  {
   "cell_type": "code",
   "execution_count": 8,
   "id": "858d6983",
   "metadata": {},
   "outputs": [],
   "source": [
    "pressure_df = create_pressure_df(\n",
    "    junction_ids, results, n_measurements_in_step,\n",
    "    hr_to_sec(start_hr), hr_to_sec(end_hr),\n",
    "    epanet_to_logger_id_map)\n",
    "\n",
    "inlet_flows = get_inlet_flows(\n",
    "    results, flow_setting, inlet_pipe_name,\n",
    "    hr_to_sec(start_hr), hr_to_sec(end_hr))\n",
    "\n",
    "inlets_df = create_inlets_df(\n",
    "    inlet_junction_id = inlet_logger_junction_ids[0],\n",
    "    id_to_junction_map = epanet_to_logger_id_map,\n",
    "    valve_id = inlet_valve_name )\n",
    "\n",
    "flows_df = create_flows_df(\n",
    "    inlet_logger_id = inlet_logger_ids[0], \n",
    "    flows=inlet_flows,\n",
    "    flow_setting=flow_setting,\n",
    "    n_meas=n_measurements_in_step)\n",
    "\n",
    "times_df = create_times_df(\n",
    "    start_time = hr_to_min(start_hr), \n",
    "    measurement_time = measurement_period_mins)"
   ]
  },
  {
   "cell_type": "markdown",
   "id": "cf56af3e",
   "metadata": {},
   "source": [
    "## 4. Write to Excel"
   ]
  },
  {
   "cell_type": "code",
   "execution_count": 9,
   "id": "bee8e52f",
   "metadata": {},
   "outputs": [],
   "source": [
    "write_efavor_pressures(\n",
    "    efavor_pressure_file, \n",
    "    logger_info, \n",
    "    inlets_df, \n",
    "    pressure_df, \n",
    "    flows_df, \n",
    "    times_df, \n",
    "    notes)"
   ]
  }
 ],
 "metadata": {
  "kernelspec": {
   "display_name": "Python 3 (ipykernel)",
   "language": "python",
   "name": "python3"
  },
  "language_info": {
   "codemirror_mode": {
    "name": "ipython",
    "version": 3
   },
   "file_extension": ".py",
   "mimetype": "text/x-python",
   "name": "python",
   "nbconvert_exporter": "python",
   "pygments_lexer": "ipython3",
   "version": "3.10.12"
  }
 },
 "nbformat": 4,
 "nbformat_minor": 5
}
